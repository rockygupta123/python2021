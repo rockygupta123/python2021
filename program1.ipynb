{
  "nbformat": 4,
  "nbformat_minor": 0,
  "metadata": {
    "colab": {
      "name": "Untitled0.ipynb",
      "provenance": [],
      "authorship_tag": "ABX9TyPDdblgRCVX1hAxsGrBStd9",
      "include_colab_link": true
    },
    "kernelspec": {
      "name": "python3",
      "display_name": "Python 3"
    }
  },
  "cells": [
    {
      "cell_type": "markdown",
      "metadata": {
        "id": "view-in-github",
        "colab_type": "text"
      },
      "source": [
        "<a href=\"https://colab.research.google.com/github/rockygupta123/python2021/blob/main/program1.ipynb\" target=\"_parent\"><img src=\"https://colab.research.google.com/assets/colab-badge.svg\" alt=\"Open In Colab\"/></a>"
      ]
    },
    {
      "cell_type": "code",
      "metadata": {
        "colab": {
          "base_uri": "https://localhost:8080/"
        },
        "id": "uARnng4veB-J",
        "outputId": "c3d044f4-310f-49ed-d82a-b09adfa02f72"
      },
      "source": [
        "a=input(\"enter your name\")\r\n",
        "b=input(\"enter your age\")\r\n",
        "c=input(\"enter your address\")\r\n",
        "print(\"name: \",a,\"age: \",b,\"address: \",c)"
      ],
      "execution_count": 7,
      "outputs": [
        {
          "output_type": "stream",
          "text": [
            "enter your namerocky\n",
            "enter your age21\n",
            "enter your addressnepal\n",
            "name:  rocky age:  21 address:  nepal\n"
          ],
          "name": "stdout"
        }
      ]
    },
    {
      "cell_type": "code",
      "metadata": {
        "id": "yl8X0MX3gaiN"
      },
      "source": [
        "a=int(input(\"emter your  first marks\"))\r\n",
        "b=int(input(enter your second marks\" ))\r\n",
        "c=int()"
      ],
      "execution_count": null,
      "outputs": []
    }
  ]
}