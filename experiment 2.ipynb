{
  "nbformat": 4,
  "nbformat_minor": 0,
  "metadata": {
    "colab": {
      "name": "Untitled1.ipynb",
      "provenance": [],
      "collapsed_sections": [],
      "authorship_tag": "ABX9TyOygtSlLn+sjSMGO8FECSso",
      "include_colab_link": true
    },
    "kernelspec": {
      "name": "python3",
      "display_name": "Python 3"
    }
  },
  "cells": [
    {
      "cell_type": "markdown",
      "metadata": {
        "id": "view-in-github",
        "colab_type": "text"
      },
      "source": [
        "<a href=\"https://colab.research.google.com/github/rockygupta123/python2021/blob/main/experiment%202.ipynb\" target=\"_parent\"><img src=\"https://colab.research.google.com/assets/colab-badge.svg\" alt=\"Open In Colab\"/></a>"
      ]
    },
    {
      "cell_type": "code",
      "metadata": {
        "colab": {
          "base_uri": "https://localhost:8080/"
        },
        "id": "dryfQhJ1fQxI",
        "outputId": "7a497e90-0dc5-4010-f395-3941c17dcc46"
      },
      "source": [
        "a=int(input(\"enter the principal\"))\r\n",
        "b=int(input(\"enter the rate\"))\r\n",
        "c=int(input(\"enter the time\"))\r\n",
        "simple=(a*b*c)/100\r\n",
        "e=a*((1+b/100)**c)\r\n",
        "compound=(e-a)\r\n",
        "print(\"simple interest:\",simple,\"compound interest:\",compound)"
      ],
      "execution_count": 10,
      "outputs": [
        {
          "output_type": "stream",
          "text": [
            "enter the principal3\n",
            "enter the rate2\n",
            "enter the time4\n",
            "simple interest: 0.24 compound interest: 0.24729648000000015\n"
          ],
          "name": "stdout"
        }
      ]
    },
    {
      "cell_type": "code",
      "metadata": {
        "colab": {
          "base_uri": "https://localhost:8080/"
        },
        "id": "4mqPMuTwjvLN",
        "outputId": "5ac9b0c3-a93e-4717-a519-0799b2c5a119"
      },
      "source": [
        "a=input(\"enter your first name\")\r\n",
        "b=input(\"enter your mid name\")\r\n",
        "c=input(\"enter your last name\")\r\n",
        "d=a+\"\"+b+\"\"+c\r\n",
        "print(d)"
      ],
      "execution_count": 18,
      "outputs": [
        {
          "output_type": "stream",
          "text": [
            "enter your first namefgfgvbsf\n",
            "enter your mid namesdfgv\n",
            "enter your last namegf\n",
            "fgfgvbsfsdfgvgf\n"
          ],
          "name": "stdout"
        }
      ]
    },
    {
      "cell_type": "code",
      "metadata": {
        "colab": {
          "base_uri": "https://localhost:8080/"
        },
        "id": "d13TRhKzmpl6",
        "outputId": "e2fbb3d5-0776-41c0-a6cc-4e06fca1f1b3"
      },
      "source": [
        "a=[[1,2,3,4],[5,6,7,8],[12,23,45,67]]\r\n",
        "print(a)"
      ],
      "execution_count": 23,
      "outputs": [
        {
          "output_type": "stream",
          "text": [
            "[[1, 2, 3, 4], [5, 6, 7, 8], [12, 23, 45, 67]]\n"
          ],
          "name": "stdout"
        }
      ]
    },
    {
      "cell_type": "code",
      "metadata": {
        "colab": {
          "base_uri": "https://localhost:8080/"
        },
        "id": "ZqIgh5vmnN5n",
        "outputId": "459e01c2-a807-4dc3-bb3d-bd321fcb5bc7"
      },
      "source": [
        "num_int = 256\r\n",
        "\r\n",
        "num_str = \"23\"\r\n",
        "\r\n",
        "print(\"Data type of num_int:\",type(num_int))\r\n",
        "\r\n",
        "print(\"Data type of num_str before Type Casting:\",type(num_str))\r\n",
        "\r\n",
        "num_str = int(num_str)\r\n",
        "\r\n",
        "print(\"Data type of num_str after Type Casting:\",type(num_str))\r\n",
        "\r\n",
        "num_sum = num_int + num_str\r\n",
        "\r\n",
        "print(\"Sum of num_int and num_str:\",num_sum)\r\n",
        "\r\n",
        "print(\"Data type of the sum:\",type(num_sum))"
      ],
      "execution_count": 31,
      "outputs": [
        {
          "output_type": "stream",
          "text": [
            "Data type of num_int: <class 'int'>\n",
            "Data type of num_str before Type Casting: <class 'str'>\n",
            "Data type of num_str after Type Casting: <class 'int'>\n",
            "Sum of num_int and num_str: 279\n",
            "Data type of the sum: <class 'int'>\n"
          ],
          "name": "stdout"
        }
      ]
    },
    {
      "cell_type": "code",
      "metadata": {
        "colab": {
          "base_uri": "https://localhost:8080/"
        },
        "id": "htUShDYwtAf5",
        "outputId": "f52f8d4f-b840-44c4-9ae6-cc09e18cb7fc"
      },
      "source": [
        "import math\r\n",
        "x1=int(input(\"enter the vaue of x1\"))\r\n",
        "x2=int(input(\"enter the vaue of x2\"))\r\n",
        "y1=int(input(\"enter the vaue of y1\"))\r\n",
        "y2=int(input(\"enter the vaue of y2\"))\r\n",
        "d=math.sqrt((x2-x1)**2+(y2-y1)*2)\r\n",
        "print(\"the distance between two points:\",d)\r\n"
      ],
      "execution_count": 35,
      "outputs": [
        {
          "output_type": "stream",
          "text": [
            "enter the vaue of x14\n",
            "enter the vaue of x27\n",
            "enter the vaue of y18\n",
            "enter the vaue of y29\n",
            "the distance between two points: 3.3166247903554\n"
          ],
          "name": "stdout"
        }
      ]
    }
  ]
}