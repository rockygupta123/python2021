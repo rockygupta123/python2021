{
  "nbformat": 4,
  "nbformat_minor": 0,
  "metadata": {
    "colab": {
      "name": "Untitled0.ipynb",
      "provenance": [],
      "authorship_tag": "ABX9TyPw9HhG2rFjYfJzLJcYhFLa",
      "include_colab_link": true
    },
    "kernelspec": {
      "name": "python3",
      "display_name": "Python 3"
    }
  },
  "cells": [
    {
      "cell_type": "markdown",
      "metadata": {
        "id": "view-in-github",
        "colab_type": "text"
      },
      "source": [
        "<a href=\"https://colab.research.google.com/github/rockygupta123/python2021/blob/main/experiment1.ipynb\" target=\"_parent\"><img src=\"https://colab.research.google.com/assets/colab-badge.svg\" alt=\"Open In Colab\"/></a>"
      ]
    },
    {
      "cell_type": "code",
      "metadata": {
        "colab": {
          "base_uri": "https://localhost:8080/"
        },
        "id": "uARnng4veB-J",
        "outputId": "c3d044f4-310f-49ed-d82a-b09adfa02f72"
      },
      "source": [
        "a=input(\"enter your name\")\r\n",
        "b=input(\"enter your age\")\r\n",
        "c=input(\"enter your address\")\r\n",
        "print(\"name: \",a,\"age: \",b,\"address: \",c)"
      ],
      "execution_count": null,
      "outputs": [
        {
          "output_type": "stream",
          "text": [
            "enter your namerocky\n",
            "enter your age21\n",
            "enter your addressnepal\n",
            "name:  rocky age:  21 address:  nepal\n"
          ],
          "name": "stdout"
        }
      ]
    },
    {
      "cell_type": "code",
      "metadata": {
        "id": "yl8X0MX3gaiN",
        "outputId": "6fc081e9-3151-43f8-fb7a-f3502d1fc24a",
        "colab": {
          "base_uri": "https://localhost:8080/"
        }
      },
      "source": [
        "a=int(input(\"enter your  first marks\"))\r\n",
        "b=int(input(\"enter your second marks\" ))\r\n",
        "c=int(input(\"enter your third marks \"))\r\n",
        "d=int(input(\"enter your  full marks \"))\r\n",
        "sum=(a+b+c)\r\n",
        "per=(sum/d)*100\r\n",
        "print(\"sum:\",sum,\"percentage:\",per)"
      ],
      "execution_count": 5,
      "outputs": [
        {
          "output_type": "stream",
          "text": [
            "enter your  first marks2\n",
            "enter your second marks4\n",
            "enter your third marks 5\n",
            "enter your  full marks 15\n",
            "sum: 11 percentage: 73.33333333333333\n"
          ],
          "name": "stdout"
        }
      ]
    }
  ]
}