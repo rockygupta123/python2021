{
  "nbformat": 4,
  "nbformat_minor": 0,
  "metadata": {
    "colab": {
      "name": "Untitled0.ipynb",
      "provenance": [],
      "authorship_tag": "ABX9TyMYDnCe0ZOWqhJDus4OFS0U",
      "include_colab_link": true
    },
    "kernelspec": {
      "name": "python3",
      "display_name": "Python 3"
    }
  },
  "cells": [
    {
      "cell_type": "markdown",
      "metadata": {
        "id": "view-in-github",
        "colab_type": "text"
      },
      "source": [
        "<a href=\"https://colab.research.google.com/github/rockygupta123/python2021/blob/main/experiment1.ipynb\" target=\"_parent\"><img src=\"https://colab.research.google.com/assets/colab-badge.svg\" alt=\"Open In Colab\"/></a>"
      ]
    },
    {
      "cell_type": "code",
      "metadata": {
        "colab": {
          "base_uri": "https://localhost:8080/"
        },
        "id": "uARnng4veB-J",
        "outputId": "c3d044f4-310f-49ed-d82a-b09adfa02f72"
      },
      "source": [
        "a=input(\"enter your name\")\r\n",
        "b=input(\"enter your age\")\r\n",
        "c=input(\"enter your address\")\r\n",
        "print(\"name: \",a,\"age: \",b,\"address: \",c)"
      ],
      "execution_count": null,
      "outputs": [
        {
          "output_type": "stream",
          "text": [
            "enter your namerocky\n",
            "enter your age21\n",
            "enter your addressnepal\n",
            "name:  rocky age:  21 address:  nepal\n"
          ],
          "name": "stdout"
        }
      ]
    },
    {
      "cell_type": "code",
      "metadata": {
        "id": "yl8X0MX3gaiN",
        "colab": {
          "base_uri": "https://localhost:8080/"
        },
        "outputId": "6fc081e9-3151-43f8-fb7a-f3502d1fc24a"
      },
      "source": [
        "a=int(input(\"enter your  first marks\"))\r\n",
        "b=int(input(\"enter your second marks\" ))\r\n",
        "c=int(input(\"enter your third marks \"))\r\n",
        "d=int(input(\"enter your  full marks \"))\r\n",
        "sum=(a+b+c)\r\n",
        "per=(sum/d)*100\r\n",
        "print(\"sum:\",sum,\"percentage:\",per)"
      ],
      "execution_count": null,
      "outputs": [
        {
          "output_type": "stream",
          "text": [
            "enter your  first marks2\n",
            "enter your second marks4\n",
            "enter your third marks 5\n",
            "enter your  full marks 15\n",
            "sum: 11 percentage: 73.33333333333333\n"
          ],
          "name": "stdout"
        }
      ]
    },
    {
      "cell_type": "code",
      "metadata": {
        "id": "hyuusb4nm_oa",
        "outputId": "6eaa2732-05db-4b6b-fd1b-3928cc2008c1",
        "colab": {
          "base_uri": "https://localhost:8080/"
        }
      },
      "source": [
        "a=float(input(\"enter the radius\"))\r\n",
        "b=(3.14*a*a)\r\n",
        "print(\"the area of circle is:\",b)"
      ],
      "execution_count": 1,
      "outputs": [
        {
          "output_type": "stream",
          "text": [
            "enter the radius3\n",
            "the area of circle is: 28.259999999999998\n"
          ],
          "name": "stdout"
        }
      ]
    },
    {
      "cell_type": "code",
      "metadata": {
        "id": "GuhdKHdenp84",
        "outputId": "5e7d8c24-9e06-40d1-b178-e13737631e82",
        "colab": {
          "base_uri": "https://localhost:8080/"
        }
      },
      "source": [
        "a=int(input(\"enter the side a of triangle\"))\r\n",
        "b=int(input(\"enter the  side b of triangle\"))\r\n",
        "c=int(input(\"enter the side c of triangle\"))\r\n",
        "d=int(input(\"enter the base of triangle\"))\r\n",
        "e=int(input(\"enter the  height c of triangle\"))\r\n",
        "peri=(a+b+c)\r\n",
        "area=(d*e)/2\r\n",
        "print(\"area of triangle is:\",area,\"perimeter of triangle is:\",peri)"
      ],
      "execution_count": 5,
      "outputs": [
        {
          "output_type": "stream",
          "text": [
            "enter the side a of triangle2\n",
            "enter the  side b of triangle3\n",
            "enter the side c of triangle4\n",
            "enter the base of triangle5\n",
            "enter the  height c of triangle6\n",
            "area of triangle is: 15.0 perimeter of triangle is: 9\n"
          ],
          "name": "stdout"
        }
      ]
    },
    {
      "cell_type": "code",
      "metadata": {
        "id": "mTjc5QkeqS-6",
        "outputId": "2515d715-f9b2-4c72-f0d7-b93fc75a6d96",
        "colab": {
          "base_uri": "https://localhost:8080/"
        }
      },
      "source": [
        "a=int(input(\"enter the radius\"))\r\n",
        "vol=(4/3)*3.14*a*a*a\r\n",
        "print(\"volume of sphrer is:\",vol)"
      ],
      "execution_count": 9,
      "outputs": [
        {
          "output_type": "stream",
          "text": [
            "enter the radius3\n",
            "volume of sphrer is: 113.03999999999998\n"
          ],
          "name": "stdout"
        }
      ]
    },
    {
      "cell_type": "code",
      "metadata": {
        "id": "ij3mrMUbrCAA",
        "outputId": "9b613096-943f-4292-ed83-dee14ccbdf2e",
        "colab": {
          "base_uri": "https://localhost:8080/"
        }
      },
      "source": [
        "a=[\"apple\",\"banana\",\"orange\",\"grapes\",\"mango\"]\r\n",
        "print(a)"
      ],
      "execution_count": 11,
      "outputs": [
        {
          "output_type": "stream",
          "text": [
            "['apple', 'banana', 'orange', 'grapes', 'mango']\n"
          ],
          "name": "stdout"
        }
      ]
    },
    {
      "cell_type": "code",
      "metadata": {
        "id": "oxu4rgWUsS1k",
        "outputId": "93753cbe-9860-4189-acc0-54e311774581",
        "colab": {
          "base_uri": "https://localhost:8080/"
        }
      },
      "source": [
        "a=input(\"enter the sting\")\r\n",
        "b=a[::-1]\r\n",
        "print(b)"
      ],
      "execution_count": 20,
      "outputs": [
        {
          "output_type": "stream",
          "text": [
            "enter the stingykcor\n",
            "rocky\n"
          ],
          "name": "stdout"
        }
      ]
    }
  ]
}